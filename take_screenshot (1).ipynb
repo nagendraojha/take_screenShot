{
 "cells": [
  {
   "cell_type": "code",
   "execution_count": 13,
   "id": "54152aaa-f38b-4d93-a75c-79cca314042d",
   "metadata": {},
   "outputs": [],
   "source": [
    "# pip install pyautogui"
   ]
  },
  {
   "cell_type": "code",
   "execution_count": 10,
   "id": "c9b4ddc4-6cc8-4eef-8e8e-4c92768db2ea",
   "metadata": {},
   "outputs": [],
   "source": [
    "import tkinter as tk\n",
    "from tkinter import messagebox\n",
    "import pyautogui\n",
    "import os\n",
    "import time\n",
    "\n",
    "def take_screenshot():\n",
    "    try:\n",
    "        downloads_folder = os.path.join(os.path.expanduser(\"~\"), \"Downloads\")\n",
    "        if not os.path.exists(downloads_folder):\n",
    "            os.makedirs(downloads_folder)\n",
    "\n",
    "        t = time.localtime()\n",
    "        current_time = time.strftime(\"%H_%M_%S\", t)\n",
    "        file_name = f\"screenshot_{current_time}.png\"\n",
    "        file_path = os.path.join(downloads_folder, file_name)\n",
    "\n",
    "        screenshot = pyautogui.screenshot()\n",
    "        screenshot.save(file_path)\n",
    "\n",
    "        messagebox.showinfo(\"Success\", f\"Screenshot saved to:\\n{file_path}\")\n",
    "    except Exception as e:\n",
    "        messagebox.showerror(\"Error\", str(e))\n",
    "\n",
    "# GUI Setup\n",
    "window = tk.Tk()\n",
    "window.title(\"Screenshot Taker\")\n",
    "window.geometry(\"300x150\")\n",
    "window.resizable(False, False)\n",
    "\n",
    "label = tk.Label(window, text=\"Click below to take a screenshot\", font=(\"Arial\", 12))\n",
    "label.pack(pady=20)\n",
    "\n",
    "btn = tk.Button(window, text=\"Take Screenshot\", command=take_screenshot, font=(\"Arial\", 12), bg=\"green\", fg=\"white\")\n",
    "btn.pack()\n",
    "\n",
    "window.mainloop()\n"
   ]
  },
  {
   "cell_type": "code",
   "execution_count": null,
   "id": "a276abbb-8039-4d52-851b-0086db55bef8",
   "metadata": {},
   "outputs": [],
   "source": []
  }
 ],
 "metadata": {
  "kernelspec": {
   "display_name": "Python [conda env:base] *",
   "language": "python",
   "name": "conda-base-py"
  },
  "language_info": {
   "codemirror_mode": {
    "name": "ipython",
    "version": 3
   },
   "file_extension": ".py",
   "mimetype": "text/x-python",
   "name": "python",
   "nbconvert_exporter": "python",
   "pygments_lexer": "ipython3",
   "version": "3.12.7"
  }
 },
 "nbformat": 4,
 "nbformat_minor": 5
}
